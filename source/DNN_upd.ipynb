{
 "cells": [
  {
   "cell_type": "markdown",
   "metadata": {},
   "source": [
    "# Imports"
   ]
  },
  {
   "cell_type": "code",
   "execution_count": 8,
   "metadata": {},
   "outputs": [],
   "source": [
    "import numpy as np\n",
    "from keras.models import Sequential\n",
    "from keras.layers import Dense, Dropout\n",
    "from keras.optimizers import RMSprop, Adadelta, Adagrad, Adam, Nadam, SGD\n",
    "from keras.callbacks import EarlyStopping, TerminateOnNaN\n",
    "from keras import backend as K\n",
    "from keras.losses import mean_squared_error\n",
    "from keras.models import load_model, Model\n",
    "import tensorflow as tf\n",
    "\n",
    "# Normalize the data.\n",
    "from sklearn import preprocessing\n",
    "from keras.regularizers import l1_l2\n",
    "\n",
    "import random\n",
    "def fix_seeds(seed):\n",
    "    random.seed(seed)\n",
    "    np.random.seed(seed)\n",
    "    tf.set_random_seed(seed)\n",
    "    session_conf = tf.ConfigProto(intra_op_parallelism_threads=1, inter_op_parallelism_threads=1)\n",
    "    sess = tf.Session(graph=tf.get_default_graph(), config=session_conf)\n",
    "    K.set_session(sess)\n",
    "    \n",
    "fix_seeds(1)"
   ]
  },
  {
   "cell_type": "markdown",
   "metadata": {},
   "source": [
    "# Functions"
   ]
  },
  {
   "cell_type": "code",
   "execution_count": 9,
   "metadata": {
    "scrolled": true
   },
   "outputs": [],
   "source": [
    "import pickle\n",
    "\n",
    "def save_obj(obj, name):\n",
    "    with open(name, 'wb') as f:\n",
    "        pickle.dump(obj, f, pickle.HIGHEST_PROTOCOL)\n",
    "        \n",
    "# Compute the RMSE given the ground truth (y_true) and the predictions(y_pred)\n",
    "def root_mean_squared_error(y_true, y_pred):\n",
    "    return K.sqrt(K.mean(K.square(y_pred - y_true), axis=-1)) \n",
    "    \n",
    "# Making sure dimensionless bond length is less than 1\n",
    "def bond(bl):\n",
    "    bln = -bl*(bl<0)\n",
    "    blp = bl*(bl>=1.0) - 1*(bl>=1.0)\n",
    "    return bln+blp\n",
    "\n",
    "# # Making sure final porosity is less than initial\n",
    "# def poros(poroi, porof):\n",
    "# #     porof[porof < 0] = 1-porof[porof < 0]\n",
    "#     porof[porof < 0] = poroi[0]-porof[porof < 0]\n",
    "#     print(porof)\n",
    "#     return porof-poroi\n",
    "\n",
    "# Making sure final porosity is less than initial\n",
    "def poros(poroi, porof):\n",
    "    porofn = -porof*(porof<0)\n",
    "    porofp = porof*(porof>=poroi) - poroi*(porof>=poroi)\n",
    "    return porofp+porofn\n",
    "\n",
    "def strength1(bl, porof, nlayer=6):\n",
    "    sigma01, sigma02 = 6, 31\n",
    "    C1s = 21\n",
    "    sigma_long = sigma01*(np.exp((1.0-porof)**(C1s*nlayer))-porof) + sigma02*(1.0-porof)\n",
    "    sigma_long_sorted = np.sort(sigma_long, axis=-1)  # sorts along first axis (down)\n",
    "    ind = np.argsort(sigma_long, axis=-1)  # sorts along first axis (down)\n",
    "    bl_sorted = np.take_along_axis(bl, ind, axis=-1)  # same as np.sort(x, axis=0)\n",
    "    corr_bl_sorted = np.sort(bl, axis=-1)  # sorts along first axis (down)\n",
    "    return corr_bl_sorted-bl_sorted\n",
    "\n",
    "def strength2(bl, porof, nlayer=6):\n",
    "    sigma01, sigma02 = 6, 31\n",
    "    C1s = 21\n",
    "    sigma_long = sigma01*(np.exp((1.0-porof)**(C1s*nlayer))-porof) + sigma02*(1.0-porof)\n",
    "    sigma_long_sorted = np.sort(sigma_long, axis=-1)  # sorts along first axis (down)\n",
    "    ind = np.argsort(sigma_long, axis=-1)  # sorts along first axis (down)\n",
    "    bl_sorted = np.take_along_axis(bl, ind, axis=-1)  # same as np.sort(x, axis=0)\n",
    "    return sum(bl_sorted[1:]-bl_sorted[:-1]<0)/14\n",
    "\n",
    "def phy_loss_mean(params):\n",
    "    # useful for cross-checking training\n",
    "    loss1, loss2, loss3, loss4, lam1, lam2 = params\n",
    "    x1, x2, x3 = loss1*(loss1>0), loss2*(loss2>0), loss3*(loss3>0)\n",
    "    \n",
    "    if x1.any() and x1.shape[0]>1:\n",
    "        X_scaled1 = (x1 - np.min(x1)) / (np.max(x1) - np.min(x1))\n",
    "        x1 = X_scaled1\n",
    "    if x2.any() and x2.shape[0]>1:\n",
    "        X_scaled2 = (x2 - np.min(x2)) / (np.max(x2) - np.min(x2))\n",
    "        x2 = X_scaled2\n",
    "    if x3.any() and x3.shape[0]>1:\n",
    "        X_scaled3 = (x3 - np.min(x3)) / (np.max(x3) - np.min(x3))\n",
    "        x3 = X_scaled3\n",
    "    return (lam1*np.mean(x1) + lam2*np.mean(x2) + lam2*np.mean(x3))\n",
    "\n",
    "\n",
    "\n",
    "def PIML(optimizer_name, optimizer_val, pre_train, tr_size, lamda, iteration, n_nodes, n_layers, drop_frac, reg, samp):\n",
    "        \n",
    "    fix_seeds(1)\n",
    "    \n",
    "    # Hyper-parameters of the training process\n",
    "    batch_size = 2\n",
    "#     num_epochs = 600\n",
    "    num_epochs = 200\n",
    "    val_frac = 0.2\n",
    "    patience_val = 150\n",
    "    \n",
    "    # Initializing results filename\n",
    "    exp_name = \"DNN_pre_\" + pre_train + optimizer_name + '_trsize' + str(tr_size) + '_iter' + str(iteration)\n",
    "    exp_name = exp_name.replace('.','pt')\n",
    "    results_dir = '../results_BK_v2_cnstTest/'\n",
    "    model_name = results_dir + exp_name + '_model.h5' # storing the trained model\n",
    "    \n",
    "    if reg==True and samp==25:\n",
    "        results_name = results_dir + exp_name + '_results_25_regularizer.dat' # storing the results of the model\n",
    "    elif reg==False and samp==25:\n",
    "        results_name = results_dir + exp_name + '_results_25.dat' # storing the results of the model\n",
    "    elif reg==True and samp==1519:\n",
    "        results_name = results_dir + exp_name + '_results_1519_regularizer.dat' # storing the results of the model\n",
    "    elif reg==False and samp==1519:\n",
    "        results_name = results_dir + exp_name + '_results_1519.dat' # storing the results of the model\n",
    "    \n",
    "    # Load labeled data\n",
    "    data1 = np.loadtxt('../data/labeled_data.dat').astype(np.float32)\n",
    "    x_labeled = data1[:, :-5]\n",
    "    y_labeled = data1[:, -3:-1] # dimensionless bond length and porosity measurements\n",
    "    if samp==25:\n",
    "        data2 = np.loadtxt('../data/unlabeled_data_BK_constw_v2_25.dat')\n",
    "        x_unlabeled = data2[:, :]\n",
    "    elif samp==1519:\n",
    "        data2 = np.loadtxt('../data/unlabeled_data_BK_constw_v2_1525.dat')\n",
    "        x_unlabeled = data2[:, :]\n",
    "    x_unlabeled1 = x_unlabeled[:1303, :]\n",
    "    x_unlabeled2 = x_unlabeled[-6:, :]\n",
    "    x_unlabeled = np.vstack((x_unlabeled1,x_unlabeled2))\n",
    "\n",
    "    # normalize dataset with MinMaxScaler\n",
    "    scaler = preprocessing.MinMaxScaler(feature_range=(0.0, 1.0))\n",
    "    x_labeled = scaler.fit_transform(x_labeled)\n",
    "    x_unlabeled[:,:-3] = scaler.fit_transform(x_unlabeled[:,:-3])\n",
    "    \n",
    "    \n",
    "    # initial porosity & physics outputs are removed\n",
    "    x_unlabeled = x_unlabeled[:, :-3]\n",
    "    \n",
    "    # train and test data\n",
    "    trainX, trainY = x_labeled[:tr_size,:], y_labeled[:tr_size]\n",
    "    testX, testY = x_labeled[20:,:], y_labeled[20:]\n",
    "    \n",
    "    dependencies = {\n",
    "     'root_mean_squared_error': root_mean_squared_error\n",
    "        }\n",
    "\n",
    "    # load the pre-trained model using non-calibrated physics-based model predictions (./data/unlabeled.dat)\n",
    "    loaded_model = load_model(results_dir + pre_train, custom_objects=dependencies)\n",
    "    \n",
    "    # Creating the model\n",
    "    model = Sequential()\n",
    "    for layer in np.arange(n_layers):\n",
    "        if layer == 0:\n",
    "            model.add(Dense(n_nodes, activation='relu', input_shape=(np.shape(trainX)[1],)))\n",
    "        else:\n",
    "            if reg:\n",
    "                model.add(Dense(n_nodes, activation='relu', kernel_regularizer=l1_l2(l1=.001, l2=.001)))\n",
    "            else:\n",
    "                model.add(Dense(n_nodes, activation='relu'))\n",
    "        model.add(Dropout(rate=drop_frac))\n",
    "    model.add(Dense(2, activation='linear'))\n",
    "    \n",
    "    # pass the weights to all layers but 1st input layer, whose dimensions are updated\n",
    "    for new_layer, layer in zip(model.layers[1:], loaded_model.layers[1:]):\n",
    "        new_layer.set_weights(layer.get_weights())\n",
    "\n",
    "    \n",
    "    model.compile(loss='mean_squared_error',\n",
    "                  optimizer=optimizer_val,\n",
    "                  metrics=[root_mean_squared_error])\n",
    "    \n",
    "    early_stopping = EarlyStopping(monitor='val_loss', patience=patience_val, verbose=1)\n",
    "    \n",
    "    print('Running...' + optimizer_name)\n",
    "    history = model.fit(trainX, trainY,\n",
    "                        batch_size=batch_size,\n",
    "                        epochs=num_epochs,\n",
    "                        verbose=0,\n",
    "                        validation_split=val_frac, callbacks=[early_stopping, TerminateOnNaN()])\n",
    "\n",
    "    \n",
    "    test_score = model.evaluate(testX, testY, verbose=0)\n",
    "    \n",
    "    # compute physical inconsistency\n",
    "    predictions = model.predict(testX)\n",
    "    \n",
    "    init_poro = data1[20:, -1]\n",
    "    phyloss1 = bond(predictions[:,0]) # physics loss 1\n",
    "    phyloss2 = poros(init_poro, predictions[:,1]) # physics loss 2\n",
    "    phyloss3 = strength1(predictions[:,0], predictions[:,1])\n",
    "    phyloss4 = strength2(predictions[:,0], predictions[:,1])\n",
    "    phyloss = phy_loss_mean([phyloss1, phyloss2, phyloss3, phyloss4, 1, 1])\n",
    "    \n",
    "    \n",
    "    \n",
    "    # save results\n",
    "    results = {'train_rmse':history.history['root_mean_squared_error'], \n",
    "                                'val_rmse':history.history['val_root_mean_squared_error'],\n",
    "                                'test_rmse':test_score[1], 'PhyLoss':phyloss}\n",
    "               \n",
    "#     save_obj(results, results_name)\n",
    "    \n",
    "    return results, results_name, predictions, testY, test_score[1]"
   ]
  },
  {
   "cell_type": "code",
   "execution_count": 10,
   "metadata": {},
   "outputs": [
    {
     "name": "stdout",
     "output_type": "stream",
     "text": [
      "Running...Adadelta\n",
      "iter: 0 nL: 2 nN: 10 trsize: 20 TestRMSE: 0.02300146408379078 PhyLoss: 0.16286933422088623 \n",
      "\n"
     ]
    }
   ],
   "source": [
    "# Main Function\n",
    "if __name__ == '__main__':\n",
    "    \n",
    "    fix_seeds(1)\n",
    "    # List of optimizers to choose from    \n",
    "    optimizer_names = ['Adagrad', 'Adadelta', 'Adam', 'Nadam', 'RMSprop', 'SGD', 'NSGD']\n",
    "    optimizer_vals = [Adagrad(clipnorm=1), Adadelta(clipnorm=1), Adam(clipnorm=1), Nadam(clipnorm=1), RMSprop(clipnorm=1), SGD(clipnorm=1.), SGD(clipnorm=1, nesterov=True)]\n",
    "    \n",
    "    # selecting the optimizer\n",
    "    optimizer_num = 1\n",
    "    optimizer_name = optimizer_names[optimizer_num]\n",
    "    optimizer_val = optimizer_vals[optimizer_num]\n",
    "    \n",
    "    # Selecting Other Hyper-parameters\n",
    "    drop_frac = 0 # Fraction of nodes to be dropped out\n",
    "    n_layers = 2 # Number of hidden layers\n",
    "    n_nodes = 10 # Number of nodes per hidden layer\n",
    "    \n",
    "    # pre-trained model\n",
    "#     pre_train = 'Pre-trainAdam_drop0pt05_nL2_nN20_trsize1000_iter0.h5'\n",
    "#     pre_train = 'Pre-train_wPhyLoss_Adam_drop0pt05_nL2_nN20_trsize1000_lamda[1, 1]_iter0.h5'\n",
    "#     pre_train = 'Pre-trainAdam_drop0_nL2_nN20_trsize1400_iter0.h5'\n",
    "#     pre_train = 'Pre-trainAdam_drop0_nL2_nN20_trsize1500_iter0.h5'\n",
    "    \n",
    "    # 25 synthetic data\n",
    "#     pre_train = 'Pre-trainAdam_drop0_nL2_nN10_trsize24_iter0.h5'\n",
    "    \n",
    "    # 1519 synthetic data\n",
    "#     pre_train = 'Pre-trainAdam_drop0_nL2_nN10_trsize1303_iter0.h5'\n",
    "    # 1519 synthetic data\n",
    "#     pre_train = 'Pre-trainAdam_drop0_nL2_nN10_trsize1515_iter0.h5'\n",
    "    \n",
    "#     pre_train = 'Pre-trainAdadelta_drop0pt2_nL2_nN10_trsize1515_iter0.h5'\n",
    "    \n",
    "#     pre_train = 'Pre-trainAdadelta_drop0_nL2_nN10_trsize1250_iter0.h5'\n",
    "    \n",
    "#     pre_train = 'Pre-trainAdadelta_drop0_nL2_nN10_trsize1300_iter0.h5'\n",
    "#     pre_train = 'Pre-trainAdadelta_drop0_nL2_nN10_trsize1200_iter0.h5'\n",
    "    pre_train = 'Pre-trainAdadelta_drop0_nL2_nN10_trsize1308_iter0.h5'\n",
    "    \n",
    "    \n",
    "#     pre_train = 'Pre-trainAdadelta_drop0_nL2_nN10_trsize1305_iter0.h5'\n",
    "    \n",
    "    #set lamda=0 for pgnn0\n",
    "#     lamda = [.01, .01, .01, 0] # Physics-based regularization constant\n",
    "#     lamda = [.05, .05, .05, 0] # Physics-based regularization constant\n",
    "    lamda = [0.3, 0.15, 0.008, 0] # Physics-based regularization constant \n",
    "#     lamda = [.001, .001, .001, 0] # Physics-based regularization constant\n",
    "#     lamda = [0, 0, 0, 0] # Physics-based regularization constant\n",
    "#     lamda = [1.75, 1, 0.15, 0]\n",
    "    \n",
    "    # Iterating over different training fractions and splitting indices for train-test splits\n",
    "    trsize_range = [4,6,8,10,20]\n",
    "    \n",
    "    #default training size = 5000\n",
    "    tr_size = trsize_range[-1]\n",
    "    \n",
    "    # use regularizer\n",
    "    reg = True\n",
    "    \n",
    "    # sample size used\n",
    "    samp = 1519\n",
    "#     samp = 25\n",
    "    \n",
    "    # total number of runs\n",
    "    iter_range = np.arange(1)\n",
    "    testrmse = []\n",
    "    # iterating through all possible params\n",
    "    for iteration in iter_range:\n",
    "        results, result_file, pred, obs, rmse = PIML(optimizer_name, optimizer_val, \n",
    "                                               pre_train, tr_size, lamda, iteration, n_nodes, n_layers, drop_frac, reg, samp)\n",
    "        testrmse.append(rmse)"
   ]
  },
  {
   "cell_type": "code",
   "execution_count": 43,
   "metadata": {},
   "outputs": [],
   "source": [
    "# from statistics import stdev\n",
    "# print(sum(testrmse) / len(testrmse),stdev(testrmse))"
   ]
  },
  {
   "cell_type": "code",
   "execution_count": 44,
   "metadata": {},
   "outputs": [
    {
     "data": {
      "text/plain": [
       "array([[0.75909126, 0.01983111],\n",
       "       [0.75909126, 0.01983111],\n",
       "       [0.57942873, 0.04714052],\n",
       "       [0.6532545 , 0.03683592],\n",
       "       [0.78207874, 0.01489861],\n",
       "       [0.7276804 , 0.01755858],\n",
       "       [0.72707176, 0.01790913],\n",
       "       [0.6532545 , 0.03683592],\n",
       "       [0.6716534 , 0.02889196],\n",
       "       [0.75374657, 0.01607068],\n",
       "       [0.78207874, 0.01489861],\n",
       "       [0.6394112 , 0.0371033 ],\n",
       "       [0.6953948 , 0.0307659 ],\n",
       "       [0.6588772 , 0.04099031],\n",
       "       [0.7476872 , 0.01682325],\n",
       "       [0.7276804 , 0.01755858],\n",
       "       [0.732643  , 0.01786154],\n",
       "       [0.75909126, 0.01983111],\n",
       "       [0.70622945, 0.03150725]], dtype=float32)"
      ]
     },
     "execution_count": 44,
     "metadata": {},
     "output_type": "execute_result"
    }
   ],
   "source": [
    "pred"
   ]
  },
  {
   "cell_type": "code",
   "execution_count": 4,
   "metadata": {},
   "outputs": [
    {
     "data": {
      "image/png": "[encoded data removed]",
      "text/plain": [
       "<Figure size 432x288 with 1 Axes>"
      ]
     },
     "metadata": {
      "needs_background": "light"
     },
     "output_type": "display_data"
    }
   ],
   "source": [
    "import matplotlib.pyplot as plt\n",
    "\n",
    "# Plot training & validation accuracy values\n",
    "plt.figure()\n",
    "plt.plot(obs[:,0], obs[:,1], 'd')\n",
    "plt.plot(pred[:,0], pred[:,1], '*')\n",
    "# plt.title('Model accuracy')\n",
    "# plt.ylabel('RMSE')\n",
    "# plt.xlabel('Epoch')\n",
    "# plt.legend(['Train', 'Validation'], loc='upper right')\n",
    "plt.show()"
   ]
  },
  {
   "cell_type": "code",
   "execution_count": 5,
   "metadata": {},
   "outputs": [],
   "source": [
    "save_obj(pred, \"../results_BK_v2_cnstTest/pred_upd.dat\")"
   ]
  },
  {
   "cell_type": "code",
   "execution_count": 8,
   "metadata": {},
   "outputs": [],
   "source": [
    "# import pickle\n",
    "# # import glob\n",
    "# # print(glob.glob(\"../results/*.dat\"))\n",
    "\n",
    "# def save_obj(obj, name ):\n",
    "#     with open(name, 'wb') as f:\n",
    "#         pickle.dump(obj, f, pickle.HIGHEST_PROTOCOL)\n",
    "\n",
    "# save_obj(results, result_file)\n",
    "\n",
    "# # def load_obj(name):\n",
    "# #     with open(name, 'rb') as f:\n",
    "# #         return pickle.load(f)\n",
    "\n",
    "# # results = load_obj(result_file)"
   ]
  },
  {
   "cell_type": "code",
   "execution_count": 11,
   "metadata": {},
   "outputs": [
    {
     "name": "stdout",
     "output_type": "stream",
     "text": [
      "Dict keys are: \n",
      "['train_rmse', 'val_rmse', 'test_rmse', 'PhyLoss']\n",
      "Test RMSE:  0.02300146408379078 PhyLoss:  0.16286933422088623\n"
     ]
    }
   ],
   "source": [
    "dict_keys = []\n",
    "\n",
    "# get key and value \n",
    "print (\"Dict keys are: \") \n",
    "for key, value in results.items(): \n",
    "    dict_keys.append(key)\n",
    "\n",
    "print(dict_keys)\n",
    "# train_loss_Phy = results[dict_keys[0]]\n",
    "# val_loss_Phy = results[dict_keys[1]]\n",
    "train_rmse = results[dict_keys[0]]\n",
    "val_rmse = results[dict_keys[1]]\n",
    "test_rmse = results[dict_keys[2]]\n",
    "PhyLoss = results[dict_keys[3]]\n",
    "print(\"Test RMSE: \",test_rmse,\"PhyLoss: \", PhyLoss)"
   ]
  },
  {
   "cell_type": "code",
   "execution_count": 6,
   "metadata": {},
   "outputs": [
    {
     "data": {
      "image/png": "[encoded data removed]",
      "text/plain": [
       "<Figure size 432x288 with 1 Axes>"
      ]
     },
     "metadata": {
      "needs_background": "light"
     },
     "output_type": "display_data"
    },
    {
     "data": {
      "image/png": "[encoded data removed]",
      "text/plain": [
       "<Figure size 432x288 with 1 Axes>"
      ]
     },
     "metadata": {
      "needs_background": "light"
     },
     "output_type": "display_data"
    }
   ],
   "source": [
    "import matplotlib.pyplot as plt\n",
    "\n",
    "# Plot training & validation accuracy values\n",
    "plt.figure()\n",
    "plt.plot(train_rmse)\n",
    "plt.plot(val_rmse)\n",
    "plt.title('Model accuracy')\n",
    "plt.ylabel('RMSE')\n",
    "plt.xlabel('Epoch')\n",
    "plt.legend(['Train', 'Validation'], loc='upper right')\n",
    "plt.show()\n",
    "\n",
    "# Plot training & validation loss values\n",
    "plt.figure()\n",
    "plt.plot(train_loss_Phy)\n",
    "plt.plot(val_loss_Phy)\n",
    "plt.title('Physical Inconsistency')\n",
    "plt.ylabel('Loss')\n",
    "plt.xlabel('Epoch')\n",
    "plt.legend(['Train', 'Validation'], loc='upper right')\n",
    "plt.show()"
   ]
  },
  {
   "cell_type": "code",
   "execution_count": 12,
   "metadata": {},
   "outputs": [
    {
     "name": "stderr",
     "output_type": "stream",
     "text": [
      "C:\\Users\\berkc\\Miniconda3\\envs\\Clone_Research_AM_2020\\lib\\site-packages\\ipykernel_launcher.py:38: UserWarning: Matplotlib is currently using pdf, which is a non-GUI backend, so cannot show the figure.\n"
     ]
    }
   ],
   "source": [
    "import matplotlib.pyplot as plt\n",
    "import matplotlib\n",
    "import os\n",
    "\n",
    "# Adjust your matplotlib script by adding the following lines after import matplotlib\n",
    "matplotlib.use(\"pdf\")\n",
    "# matplotlib.use(\"pgf\")\n",
    "\n",
    "    \n",
    "matplotlib.rcParams.update({\n",
    "        \"pgf.texsystem\": \"pdflatex\",\n",
    "        'font.family': 'serif',\n",
    "        'text.usetex': True,\n",
    "        'pgf.rcfonts': False,\n",
    "    })\n",
    "# add LaTeX on python path\n",
    "user_name = os.getlogin()\n",
    "os.environ[\"PATH\"] += os.pathsep + 'C:/Users/' + user_name + '/AppData/Local/Programs/MiKTeX 2.9/miktex/bin/x64'\n",
    "\n",
    "#===========================     Using LaTeX compatible fonts      =============================== #\n",
    "# use LaTeX fonts in the plot\n",
    "plt.rc('text', usetex=True)\n",
    "plt.rc('font', family='serif')    \n",
    "    \n",
    "# get the figure\n",
    "fig = plt.figure()\n",
    "\n",
    "colors = [\"#1f77b4\", \"#ff7f0e\", \"#2ca02c\", \"#d62728\", \"#9467bd\", \"#8c564b\", \"#e377c2\", \"#7f7f7f\", \"#bcbd22\", \"#17becf\"]\n",
    "# plt.plot(exp[:,0],exp[:,1], 'x', color=colors[1], markersize=7)\n",
    "plt.plot(train_rmse,  \"-\", color=colors[0])\n",
    "plt.plot(val_rmse,  \"--\", color=colors[1])\n",
    "plt.ylabel('RMSE', fontsize=22)\n",
    "plt.xlabel('Epoch', fontsize=22)\n",
    "plt.ylim(0.0,0.5)\n",
    "plt.legend(['Train', 'Validation'], loc='best', fontsize=12)\n",
    "plt.tick_params(labelsize=20)\n",
    "plt.xticks(np.arange(0, len(train_rmse)+1, 50.0))\n",
    "plt.show()\n",
    "\n",
    "\n",
    "filename = '../figs/epoch_dnn_upd'\n",
    "\n",
    "# save as PDF\n",
    "fig.savefig(\"{}.pdf\".format(filename), bbox_inches='tight', dpi=300)"
   ]
  },
  {
   "cell_type": "code",
   "execution_count": null,
   "metadata": {},
   "outputs": [],
   "source": []
  }
 ],
 "metadata": {
  "kernelspec": {
   "display_name": "Python 3",
   "language": "python",
   "name": "python3"
  },
  "language_info": {
   "codemirror_mode": {
    "name": "ipython",
    "version": 3
   },
   "file_extension": ".py",
   "mimetype": "text/x-python",
   "name": "python",
   "nbconvert_exporter": "python",
   "pygments_lexer": "ipython3",
   "version": "3.7.6"
  }
 },
 "nbformat": 4,
 "nbformat_minor": 4
}
